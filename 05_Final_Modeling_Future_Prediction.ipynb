{
 "cells": [
  {
   "cell_type": "markdown",
   "id": "e59f787b-f0eb-46f1-ac16-26d82e3941b8",
   "metadata": {},
   "source": [
    "#### Final Modeling with Entire Data and Future Prediction:"
   ]
  },
  {
   "cell_type": "code",
   "execution_count": 1,
   "id": "9cdafbf5-59f8-4002-a866-be195e0cd6f7",
   "metadata": {},
   "outputs": [],
   "source": [
    "# import all libraries\n",
    "import pandas as pd\n",
    "import numpy as np\n",
    "import seaborn as sns\n",
    "import matplotlib.pyplot as plt\n",
    "from datetime import datetime, timedelta\n",
    "from statsmodels.tsa.stattools import adfuller\n",
    "from statsmodels.graphics.tsaplots import plot_acf,plot_pacf\n",
    "from statsmodels.tsa.arima.model import ARIMA\n",
    "from statsmodels.tsa.statespace.sarimax import SARIMAX\n",
    "from prophet import Prophet\n",
    "from sklearn.linear_model import Ridge\n",
    "from sklearn.ensemble import RandomForestRegressor"
   ]
  },
  {
   "cell_type": "code",
   "execution_count": 2,
   "id": "d301f15c-446f-47f7-b9de-83fe4a67ca46",
   "metadata": {},
   "outputs": [
    {
     "data": {
      "text/html": [
       "<div>\n",
       "<style scoped>\n",
       "    .dataframe tbody tr th:only-of-type {\n",
       "        vertical-align: middle;\n",
       "    }\n",
       "\n",
       "    .dataframe tbody tr th {\n",
       "        vertical-align: top;\n",
       "    }\n",
       "\n",
       "    .dataframe thead th {\n",
       "        text-align: right;\n",
       "    }\n",
       "</style>\n",
       "<table border=\"1\" class=\"dataframe\">\n",
       "  <thead>\n",
       "    <tr style=\"text-align: right;\">\n",
       "      <th></th>\n",
       "      <th>Store</th>\n",
       "      <th>Dept</th>\n",
       "      <th>Date</th>\n",
       "      <th>Weekly_Sales</th>\n",
       "      <th>IsHoliday</th>\n",
       "    </tr>\n",
       "  </thead>\n",
       "  <tbody>\n",
       "    <tr>\n",
       "      <th>0</th>\n",
       "      <td>1</td>\n",
       "      <td>1</td>\n",
       "      <td>2010-02-05</td>\n",
       "      <td>25037.08</td>\n",
       "      <td>False</td>\n",
       "    </tr>\n",
       "    <tr>\n",
       "      <th>1</th>\n",
       "      <td>1</td>\n",
       "      <td>1</td>\n",
       "      <td>2010-02-12</td>\n",
       "      <td>46247.44</td>\n",
       "      <td>True</td>\n",
       "    </tr>\n",
       "    <tr>\n",
       "      <th>2</th>\n",
       "      <td>1</td>\n",
       "      <td>1</td>\n",
       "      <td>2010-02-19</td>\n",
       "      <td>41783.43</td>\n",
       "      <td>False</td>\n",
       "    </tr>\n",
       "    <tr>\n",
       "      <th>3</th>\n",
       "      <td>1</td>\n",
       "      <td>1</td>\n",
       "      <td>2010-02-26</td>\n",
       "      <td>19491.18</td>\n",
       "      <td>False</td>\n",
       "    </tr>\n",
       "    <tr>\n",
       "      <th>4</th>\n",
       "      <td>1</td>\n",
       "      <td>1</td>\n",
       "      <td>2010-03-05</td>\n",
       "      <td>21926.49</td>\n",
       "      <td>False</td>\n",
       "    </tr>\n",
       "  </tbody>\n",
       "</table>\n",
       "</div>"
      ],
      "text/plain": [
       "   Store  Dept       Date  Weekly_Sales  IsHoliday\n",
       "0      1     1 2010-02-05      25037.08      False\n",
       "1      1     1 2010-02-12      46247.44       True\n",
       "2      1     1 2010-02-19      41783.43      False\n",
       "3      1     1 2010-02-26      19491.18      False\n",
       "4      1     1 2010-03-05      21926.49      False"
      ]
     },
     "execution_count": 2,
     "metadata": {},
     "output_type": "execute_result"
    }
   ],
   "source": [
    "# read csv file and store it into a dataframe\n",
    "df = pd.read_csv(\"2. train_sales_forecast.csv\")\n",
    "df['Date'] = pd.to_datetime(df['Date'], format='%d-%m-%Y')\n",
    "df.head()"
   ]
  },
  {
   "cell_type": "code",
   "execution_count": 3,
   "id": "0852be9d-6852-4ef6-a017-e85e7d2f7936",
   "metadata": {},
   "outputs": [],
   "source": [
    "def impute_missing_rows(df):\n",
    "    \"\"\"\n",
    "    This function imputes missing rows to the dataframe to make it evenly spaned.\n",
    "\n",
    "    Parameters:\n",
    "    df: The pandas DataFrame object\n",
    "\n",
    "    Returns:\n",
    "    df: The pandas DataFrame object after imputation\n",
    "    \"\"\"\n",
    "    print(f\"Shape of dataframe before imputation: {df.shape}\")\n",
    "    # get minimum and maximum dates from the entire dataframe\n",
    "    end_date = df.Date.max()\n",
    "    start_date = df.Date.min()\n",
    "    # get all the unique stores in the dataframe\n",
    "    for store_no in df.Store.unique():\n",
    "        df_store = df[df.Store == store_no]\n",
    "        # get all the departments from that store\n",
    "        for dept_no in df_store.Dept.unique():\n",
    "            df_store_dept = df_store[df_store.Dept == dept_no]\n",
    "            # start_date = df_store_dept.Date.min()\n",
    "            current_date = start_date\n",
    "            while current_date <= end_date:\n",
    "                # if a date is not present, impute it with Zero sales\n",
    "                if current_date not in df_store_dept.Date.values:\n",
    "                    # print([store_no, dept_no, current_date])\n",
    "                    try:\n",
    "                        # get the holiday information of the missing date from the entire df\n",
    "                        is_holiday = df[df.Date == current_date]['IsHoliday'].values[0]\n",
    "                    except:\n",
    "                        print(\"Date not present in the entire dataframe, considering False\")\n",
    "                        is_holiday = False\n",
    "                    df.loc[len(df)] = [store_no, dept_no, current_date, 0, is_holiday]\n",
    "                current_date += timedelta(days=7)\n",
    "    print(f\"Shape of dataframe after imputation: {df.shape}\")\n",
    "    return df"
   ]
  },
  {
   "cell_type": "code",
   "execution_count": 4,
   "id": "d7ccea80-ddb8-492c-8813-d7329d8c92bb",
   "metadata": {},
   "outputs": [],
   "source": [
    "def preprocess_dataframe(df):\n",
    "    \"\"\"\n",
    "    This function preprocess the data before training.\n",
    "\n",
    "    Parameters:\n",
    "    df: The pandas DataFrame object\n",
    "\n",
    "    Returns:\n",
    "    df: The pandas DataFrame object after preprocessing\n",
    "    \"\"\"\n",
    "    # impute missing rows in the dataframe\n",
    "    df = impute_missing_rows(df)\n",
    "    df.IsHoliday = df.IsHoliday.astype(int)\n",
    "    return df"
   ]
  },
  {
   "cell_type": "markdown",
   "id": "04f1efdf-5ebf-41ca-974c-7786682a4702",
   "metadata": {},
   "source": [
    "## Final Modeling with Entire Data for Future Prediction:"
   ]
  },
  {
   "cell_type": "markdown",
   "id": "0be8aea8-0807-4725-9e21-17b0b942ffb7",
   "metadata": {},
   "source": [
    "#### ARIMA Model with Exogenous Variable (Holiday)\n",
    "As we need to forecast next 6 months, this will be the best model as found from the validation and Test MAPE scores."
   ]
  },
  {
   "cell_type": "code",
   "execution_count": 5,
   "id": "5db08fc0-4501-49eb-9dc3-4786627712d9",
   "metadata": {},
   "outputs": [],
   "source": [
    "def fit_arima_model_exogenous(df, order):\n",
    "    \"\"\"\n",
    "    This function fits ARIMA model\n",
    "\n",
    "    Parameters:\n",
    "    df: dataframe object\n",
    "    order: (p, d, q)\n",
    "\n",
    "    Returns:\n",
    "    fitted model object\n",
    "    \"\"\"\n",
    "    # Ensure the data is sorted by date\n",
    "    df = df.sort_values(by='Date')\n",
    "     # Set the date as index and set the frequency Weekly-Friday (Dates are of Friday)\n",
    "    df = df.set_index('Date').asfreq('W-FRI')\n",
    "   \n",
    "    # Fit the ARIMA model\n",
    "    model = ARIMA(df['Weekly_Sales'], exog=df['IsHoliday'],order=order)\n",
    "    model_fit = model.fit()\n",
    "    \n",
    "    return model_fit"
   ]
  },
  {
   "cell_type": "code",
   "execution_count": 6,
   "id": "c136f91c-8ff3-44dc-bbb6-3eb220ee90da",
   "metadata": {},
   "outputs": [],
   "source": [
    "def train_arima_model_exogenous(df, order):\n",
    "    \"\"\"\n",
    "    This function trains every series of the dataframe.\n",
    "    Parameters:\n",
    "    df: dataframe object\n",
    "    order: (p, d, q)\n",
    "\n",
    "    Returns:\n",
    "    Dictionary containing fitted models with key tuple(store, dept) and value model object\n",
    "    \"\"\"\n",
    "    models_dict = {}\n",
    "    for store_no in df.Store.unique():\n",
    "        df_store = df[df.Store == store_no]\n",
    "        for dept_no in df_store.Dept.unique():\n",
    "            df_store_dept = df_store[df_store.Dept == dept_no]\n",
    "            try:\n",
    "                model_fit = fit_arima_model_exogenous(df_store_dept, order)\n",
    "                models_dict[(store_no, dept_no)] = model_fit\n",
    "            except Exception as e:\n",
    "                print(f'Failed to fit ARIMA model for store {store_no}, category {dept_no}: {e}')\n",
    "    return models_dict"
   ]
  },
  {
   "cell_type": "code",
   "execution_count": 17,
   "id": "9d25566d-ff50-4a90-a63e-7825a9179101",
   "metadata": {},
   "outputs": [],
   "source": [
    "def future_predict_arima_model_exogenous(df_train, df_test, models_dict, forecast_steps):\n",
    "    predicted_arima_df = pd.DataFrame()\n",
    "    df_test['IsHoliday'] = df_test['IsHoliday'].astype(int)\n",
    "    val_holidays = df_test[['Date', 'IsHoliday']].drop_duplicates().sort_values(by='Date')\n",
    "    for store_no in df_train.Store.unique():\n",
    "        df_store = df_train[df_train.Store == store_no]\n",
    "        for dept_no in df_store.Dept.unique():\n",
    "            forecast = models_dict[(store_no, dept_no)].get_forecast(steps=forecast_steps, exog=val_holidays.IsHoliday)\n",
    "            forecast_df = forecast.summary_frame()\n",
    "            forecast_df = forecast_df[['mean']]\n",
    "            forecast_df['Store'] = store_no\n",
    "            forecast_df['Dept'] = dept_no\n",
    "            predicted_arima_df  = pd.concat([predicted_arima_df, forecast_df], ignore_index=False)\n",
    "    predicted_arima_df = predicted_arima_df.reset_index()\n",
    "    predicted_arima_df = predicted_arima_df.rename(columns={'index': 'Date', 'mean': 'Weekly_Sales'})\n",
    "    predicted_arima_df = predicted_arima_df.reset_index(drop=True)\n",
    "\n",
    "    # drop_empty Weekly_Sales column from df_test\n",
    "    df_test = df_test.drop(columns=['Weekly_Sales'])\n",
    "    # merge the predicted forecast with df_test\n",
    "    df_merged_predicted_sales = pd.merge(df_test, predicted_arima_df, on=['Store', 'Dept', 'Date'], how='left')\n",
    "    return df_merged_predicted_sales"
   ]
  },
  {
   "cell_type": "code",
   "execution_count": 8,
   "id": "8b581194-7aef-4803-a05b-e868dd573dba",
   "metadata": {},
   "outputs": [],
   "source": [
    "import warnings\n",
    "warnings.filterwarnings('ignore')"
   ]
  },
  {
   "cell_type": "markdown",
   "id": "54490fb9-b345-47ed-b0a1-6a0e75cb04f3",
   "metadata": {},
   "source": [
    "#### Preprocess the data before training:"
   ]
  },
  {
   "cell_type": "code",
   "execution_count": 9,
   "id": "196d8f94-7052-4044-9c37-fcfae2023283",
   "metadata": {},
   "outputs": [
    {
     "name": "stdout",
     "output_type": "stream",
     "text": [
      "Shape of dataframe before imputation: (84056, 5)\n",
      "Shape of dataframe after imputation: (90909, 5)\n"
     ]
    },
    {
     "data": {
      "text/html": [
       "<div>\n",
       "<style scoped>\n",
       "    .dataframe tbody tr th:only-of-type {\n",
       "        vertical-align: middle;\n",
       "    }\n",
       "\n",
       "    .dataframe tbody tr th {\n",
       "        vertical-align: top;\n",
       "    }\n",
       "\n",
       "    .dataframe thead th {\n",
       "        text-align: right;\n",
       "    }\n",
       "</style>\n",
       "<table border=\"1\" class=\"dataframe\">\n",
       "  <thead>\n",
       "    <tr style=\"text-align: right;\">\n",
       "      <th></th>\n",
       "      <th>Store</th>\n",
       "      <th>Dept</th>\n",
       "      <th>Date</th>\n",
       "      <th>Weekly_Sales</th>\n",
       "      <th>IsHoliday</th>\n",
       "    </tr>\n",
       "  </thead>\n",
       "  <tbody>\n",
       "    <tr>\n",
       "      <th>0</th>\n",
       "      <td>1</td>\n",
       "      <td>1</td>\n",
       "      <td>2010-02-05</td>\n",
       "      <td>25037.08</td>\n",
       "      <td>0</td>\n",
       "    </tr>\n",
       "    <tr>\n",
       "      <th>1</th>\n",
       "      <td>1</td>\n",
       "      <td>1</td>\n",
       "      <td>2010-02-12</td>\n",
       "      <td>46247.44</td>\n",
       "      <td>1</td>\n",
       "    </tr>\n",
       "    <tr>\n",
       "      <th>2</th>\n",
       "      <td>1</td>\n",
       "      <td>1</td>\n",
       "      <td>2010-02-19</td>\n",
       "      <td>41783.43</td>\n",
       "      <td>0</td>\n",
       "    </tr>\n",
       "    <tr>\n",
       "      <th>3</th>\n",
       "      <td>1</td>\n",
       "      <td>1</td>\n",
       "      <td>2010-02-26</td>\n",
       "      <td>19491.18</td>\n",
       "      <td>0</td>\n",
       "    </tr>\n",
       "    <tr>\n",
       "      <th>4</th>\n",
       "      <td>1</td>\n",
       "      <td>1</td>\n",
       "      <td>2010-03-05</td>\n",
       "      <td>21926.49</td>\n",
       "      <td>0</td>\n",
       "    </tr>\n",
       "  </tbody>\n",
       "</table>\n",
       "</div>"
      ],
      "text/plain": [
       "   Store  Dept       Date  Weekly_Sales  IsHoliday\n",
       "0      1     1 2010-02-05      25037.08          0\n",
       "1      1     1 2010-02-12      46247.44          1\n",
       "2      1     1 2010-02-19      41783.43          0\n",
       "3      1     1 2010-02-26      19491.18          0\n",
       "4      1     1 2010-03-05      21926.49          0"
      ]
     },
     "execution_count": 9,
     "metadata": {},
     "output_type": "execute_result"
    }
   ],
   "source": [
    "df_train = preprocess_dataframe(df)\n",
    "df_train.head()"
   ]
  },
  {
   "cell_type": "markdown",
   "id": "7d7dfd61-8b84-43d4-9261-9946b4bc7f54",
   "metadata": {},
   "source": [
    "#### Train arima model with holiday as exogenous variable:"
   ]
  },
  {
   "cell_type": "code",
   "execution_count": 10,
   "id": "1475ad88-15f0-4840-98bc-2d996d0fc6c1",
   "metadata": {},
   "outputs": [],
   "source": [
    "# considering p, d, q = (1, 1, 1)\n",
    "arima_trained_models_dict_exogen = train_arima_model_exogenous(df_train, order=(1,1,1))"
   ]
  },
  {
   "cell_type": "markdown",
   "id": "1b595ca0-6deb-4209-a790-b99884b200ff",
   "metadata": {},
   "source": [
    "#### Load test data:"
   ]
  },
  {
   "cell_type": "code",
   "execution_count": 12,
   "id": "f3ed96a0-85a5-4262-9e1e-151692a7c846",
   "metadata": {},
   "outputs": [
    {
     "data": {
      "text/html": [
       "<div>\n",
       "<style scoped>\n",
       "    .dataframe tbody tr th:only-of-type {\n",
       "        vertical-align: middle;\n",
       "    }\n",
       "\n",
       "    .dataframe tbody tr th {\n",
       "        vertical-align: top;\n",
       "    }\n",
       "\n",
       "    .dataframe thead th {\n",
       "        text-align: right;\n",
       "    }\n",
       "</style>\n",
       "<table border=\"1\" class=\"dataframe\">\n",
       "  <thead>\n",
       "    <tr style=\"text-align: right;\">\n",
       "      <th></th>\n",
       "      <th>Store</th>\n",
       "      <th>Dept</th>\n",
       "      <th>Date</th>\n",
       "      <th>IsHoliday</th>\n",
       "      <th>Weekly_Sales</th>\n",
       "    </tr>\n",
       "  </thead>\n",
       "  <tbody>\n",
       "    <tr>\n",
       "      <th>0</th>\n",
       "      <td>1</td>\n",
       "      <td>1</td>\n",
       "      <td>04-05-2012</td>\n",
       "      <td>False</td>\n",
       "      <td>NaN</td>\n",
       "    </tr>\n",
       "    <tr>\n",
       "      <th>1</th>\n",
       "      <td>1</td>\n",
       "      <td>1</td>\n",
       "      <td>11-05-2012</td>\n",
       "      <td>False</td>\n",
       "      <td>NaN</td>\n",
       "    </tr>\n",
       "    <tr>\n",
       "      <th>2</th>\n",
       "      <td>1</td>\n",
       "      <td>1</td>\n",
       "      <td>18-05-2012</td>\n",
       "      <td>False</td>\n",
       "      <td>NaN</td>\n",
       "    </tr>\n",
       "    <tr>\n",
       "      <th>3</th>\n",
       "      <td>1</td>\n",
       "      <td>1</td>\n",
       "      <td>25-05-2012</td>\n",
       "      <td>False</td>\n",
       "      <td>NaN</td>\n",
       "    </tr>\n",
       "    <tr>\n",
       "      <th>4</th>\n",
       "      <td>1</td>\n",
       "      <td>1</td>\n",
       "      <td>01-06-2012</td>\n",
       "      <td>False</td>\n",
       "      <td>NaN</td>\n",
       "    </tr>\n",
       "  </tbody>\n",
       "</table>\n",
       "</div>"
      ],
      "text/plain": [
       "   Store  Dept        Date  IsHoliday  Weekly_Sales\n",
       "0      1     1  04-05-2012      False           NaN\n",
       "1      1     1  11-05-2012      False           NaN\n",
       "2      1     1  18-05-2012      False           NaN\n",
       "3      1     1  25-05-2012      False           NaN\n",
       "4      1     1  01-06-2012      False           NaN"
      ]
     },
     "execution_count": 12,
     "metadata": {},
     "output_type": "execute_result"
    }
   ],
   "source": [
    "# read csv file and store it into a dataframe\n",
    "df_test = pd.read_csv(\"3. Scoring_Template.csv\")\n",
    "df_test.head()"
   ]
  },
  {
   "cell_type": "code",
   "execution_count": 13,
   "id": "c525ae0c-237c-461e-9651-b90c52ef00c4",
   "metadata": {},
   "outputs": [
    {
     "data": {
      "text/plain": [
       "(18589, 5)"
      ]
     },
     "execution_count": 13,
     "metadata": {},
     "output_type": "execute_result"
    }
   ],
   "source": [
    "df_test.shape"
   ]
  },
  {
   "cell_type": "markdown",
   "id": "c216c303-d925-4255-888f-ae8ecb5a5184",
   "metadata": {},
   "source": [
    "#### Compute Forecast span:"
   ]
  },
  {
   "cell_type": "code",
   "execution_count": 14,
   "id": "10488a6c-dca2-4cfa-b042-14aea0c67a2d",
   "metadata": {},
   "outputs": [],
   "source": [
    "def compute_forecast_steps(df):\n",
    "    count = 0\n",
    "    df['Date'] = pd.to_datetime(df['Date'], format='%d-%m-%Y')\n",
    "    start_date = df.Date.min()\n",
    "    end_date = df.Date.max()\n",
    "    current_date = start_date\n",
    "    \n",
    "    while current_date <= end_date:\n",
    "        current_date += timedelta(days=7)\n",
    "        count += 1\n",
    "    return count"
   ]
  },
  {
   "cell_type": "code",
   "execution_count": 15,
   "id": "4f1d3654-f18c-42fd-92f0-9b4ebb0fcba3",
   "metadata": {},
   "outputs": [
    {
     "name": "stdout",
     "output_type": "stream",
     "text": [
      "Forecast Steps = 26\n"
     ]
    }
   ],
   "source": [
    "forecast_steps = compute_forecast_steps(df_test)\n",
    "print(f\"Forecast Steps = {forecast_steps}\")"
   ]
  },
  {
   "cell_type": "markdown",
   "id": "3882c82a-9062-48b2-8dcf-e6652a5f8513",
   "metadata": {},
   "source": [
    "#### Get Future Prediction:"
   ]
  },
  {
   "cell_type": "code",
   "execution_count": 18,
   "id": "749eeb75-1770-44ee-9624-0c54e41dcc89",
   "metadata": {},
   "outputs": [
    {
     "data": {
      "text/html": [
       "<div>\n",
       "<style scoped>\n",
       "    .dataframe tbody tr th:only-of-type {\n",
       "        vertical-align: middle;\n",
       "    }\n",
       "\n",
       "    .dataframe tbody tr th {\n",
       "        vertical-align: top;\n",
       "    }\n",
       "\n",
       "    .dataframe thead th {\n",
       "        text-align: right;\n",
       "    }\n",
       "</style>\n",
       "<table border=\"1\" class=\"dataframe\">\n",
       "  <thead>\n",
       "    <tr style=\"text-align: right;\">\n",
       "      <th></th>\n",
       "      <th>Store</th>\n",
       "      <th>Dept</th>\n",
       "      <th>Date</th>\n",
       "      <th>IsHoliday</th>\n",
       "      <th>Weekly_Sales</th>\n",
       "    </tr>\n",
       "  </thead>\n",
       "  <tbody>\n",
       "    <tr>\n",
       "      <th>0</th>\n",
       "      <td>1</td>\n",
       "      <td>1</td>\n",
       "      <td>2012-05-04</td>\n",
       "      <td>0</td>\n",
       "      <td>19381.993184</td>\n",
       "    </tr>\n",
       "    <tr>\n",
       "      <th>1</th>\n",
       "      <td>1</td>\n",
       "      <td>1</td>\n",
       "      <td>2012-05-11</td>\n",
       "      <td>0</td>\n",
       "      <td>21038.239385</td>\n",
       "    </tr>\n",
       "    <tr>\n",
       "      <th>2</th>\n",
       "      <td>1</td>\n",
       "      <td>1</td>\n",
       "      <td>2012-05-18</td>\n",
       "      <td>0</td>\n",
       "      <td>21964.806586</td>\n",
       "    </tr>\n",
       "    <tr>\n",
       "      <th>3</th>\n",
       "      <td>1</td>\n",
       "      <td>1</td>\n",
       "      <td>2012-05-25</td>\n",
       "      <td>0</td>\n",
       "      <td>22483.163565</td>\n",
       "    </tr>\n",
       "    <tr>\n",
       "      <th>4</th>\n",
       "      <td>1</td>\n",
       "      <td>1</td>\n",
       "      <td>2012-06-01</td>\n",
       "      <td>0</td>\n",
       "      <td>22773.152201</td>\n",
       "    </tr>\n",
       "  </tbody>\n",
       "</table>\n",
       "</div>"
      ],
      "text/plain": [
       "   Store  Dept       Date  IsHoliday  Weekly_Sales\n",
       "0      1     1 2012-05-04          0  19381.993184\n",
       "1      1     1 2012-05-11          0  21038.239385\n",
       "2      1     1 2012-05-18          0  21964.806586\n",
       "3      1     1 2012-05-25          0  22483.163565\n",
       "4      1     1 2012-06-01          0  22773.152201"
      ]
     },
     "execution_count": 18,
     "metadata": {},
     "output_type": "execute_result"
    }
   ],
   "source": [
    "test_forecast_arima_exogen_df = future_predict_arima_model_exogenous(df_train, df_test, arima_trained_models_dict_exogen, forecast_steps)\n",
    "test_forecast_arima_exogen_df.head()"
   ]
  },
  {
   "cell_type": "code",
   "execution_count": 28,
   "id": "dd5da8de-f336-4549-89a4-54d2c3f89b34",
   "metadata": {},
   "outputs": [
    {
     "data": {
      "text/html": [
       "<div>\n",
       "<style scoped>\n",
       "    .dataframe tbody tr th:only-of-type {\n",
       "        vertical-align: middle;\n",
       "    }\n",
       "\n",
       "    .dataframe tbody tr th {\n",
       "        vertical-align: top;\n",
       "    }\n",
       "\n",
       "    .dataframe thead th {\n",
       "        text-align: right;\n",
       "    }\n",
       "</style>\n",
       "<table border=\"1\" class=\"dataframe\">\n",
       "  <thead>\n",
       "    <tr style=\"text-align: right;\">\n",
       "      <th></th>\n",
       "      <th>Store</th>\n",
       "      <th>Dept</th>\n",
       "      <th>Date</th>\n",
       "      <th>IsHoliday</th>\n",
       "      <th>Weekly_Sales</th>\n",
       "    </tr>\n",
       "  </thead>\n",
       "  <tbody>\n",
       "    <tr>\n",
       "      <th>0</th>\n",
       "      <td>1</td>\n",
       "      <td>1</td>\n",
       "      <td>2012-05-04</td>\n",
       "      <td>False</td>\n",
       "      <td>19381.993184</td>\n",
       "    </tr>\n",
       "    <tr>\n",
       "      <th>1</th>\n",
       "      <td>1</td>\n",
       "      <td>1</td>\n",
       "      <td>2012-05-11</td>\n",
       "      <td>False</td>\n",
       "      <td>21038.239385</td>\n",
       "    </tr>\n",
       "    <tr>\n",
       "      <th>2</th>\n",
       "      <td>1</td>\n",
       "      <td>1</td>\n",
       "      <td>2012-05-18</td>\n",
       "      <td>False</td>\n",
       "      <td>21964.806586</td>\n",
       "    </tr>\n",
       "    <tr>\n",
       "      <th>3</th>\n",
       "      <td>1</td>\n",
       "      <td>1</td>\n",
       "      <td>2012-05-25</td>\n",
       "      <td>False</td>\n",
       "      <td>22483.163565</td>\n",
       "    </tr>\n",
       "    <tr>\n",
       "      <th>4</th>\n",
       "      <td>1</td>\n",
       "      <td>1</td>\n",
       "      <td>2012-06-01</td>\n",
       "      <td>False</td>\n",
       "      <td>22773.152201</td>\n",
       "    </tr>\n",
       "  </tbody>\n",
       "</table>\n",
       "</div>"
      ],
      "text/plain": [
       "   Store  Dept       Date  IsHoliday  Weekly_Sales\n",
       "0      1     1 2012-05-04      False  19381.993184\n",
       "1      1     1 2012-05-11      False  21038.239385\n",
       "2      1     1 2012-05-18      False  21964.806586\n",
       "3      1     1 2012-05-25      False  22483.163565\n",
       "4      1     1 2012-06-01      False  22773.152201"
      ]
     },
     "execution_count": 28,
     "metadata": {},
     "output_type": "execute_result"
    }
   ],
   "source": [
    "# convert IsHoliday to boolean as it was originally\n",
    "test_forecast_arima_exogen_df.IsHoliday = test_forecast_arima_exogen_df.IsHoliday.astype(bool)\n",
    "test_forecast_arima_exogen_df.head()"
   ]
  },
  {
   "cell_type": "code",
   "execution_count": 29,
   "id": "eefd9de2-3444-487f-894f-4c7ad45cb93b",
   "metadata": {},
   "outputs": [
    {
     "data": {
      "text/plain": [
       "(18589, 5)"
      ]
     },
     "execution_count": 29,
     "metadata": {},
     "output_type": "execute_result"
    }
   ],
   "source": [
    "test_forecast_arima_exogen_df.shape"
   ]
  },
  {
   "cell_type": "code",
   "execution_count": 30,
   "id": "31ecf26d-c8c4-4c7e-a5af-66872cdb9400",
   "metadata": {},
   "outputs": [
    {
     "data": {
      "text/plain": [
       "Store           0\n",
       "Dept            0\n",
       "Date            0\n",
       "IsHoliday       0\n",
       "Weekly_Sales    0\n",
       "dtype: int64"
      ]
     },
     "execution_count": 30,
     "metadata": {},
     "output_type": "execute_result"
    }
   ],
   "source": [
    "# check if there is any null value\n",
    "test_forecast_arima_exogen_df.isna().sum()"
   ]
  },
  {
   "cell_type": "markdown",
   "id": "840ffa27-101f-4798-a9d0-cc340f6aaadc",
   "metadata": {},
   "source": [
    "#### Store final prediction file locally:"
   ]
  },
  {
   "cell_type": "code",
   "execution_count": 31,
   "id": "30565de7-a032-4ace-a8d8-e4253d00609d",
   "metadata": {},
   "outputs": [],
   "source": [
    "# Store this final forecast locally for further use\n",
    "test_forecast_arima_exogen_df.to_csv('test_sales_forecast.csv', index=False)"
   ]
  },
  {
   "cell_type": "code",
   "execution_count": null,
   "id": "2c289c12-6d6f-442b-ba63-693643421013",
   "metadata": {},
   "outputs": [],
   "source": []
  },
  {
   "cell_type": "code",
   "execution_count": null,
   "id": "9682b711-4846-49b7-8ff4-68ba493073f5",
   "metadata": {},
   "outputs": [],
   "source": []
  }
 ],
 "metadata": {
  "kernelspec": {
   "display_name": "Python 3 (ipykernel)",
   "language": "python",
   "name": "python3"
  },
  "language_info": {
   "codemirror_mode": {
    "name": "ipython",
    "version": 3
   },
   "file_extension": ".py",
   "mimetype": "text/x-python",
   "name": "python",
   "nbconvert_exporter": "python",
   "pygments_lexer": "ipython3",
   "version": "3.11.7"
  }
 },
 "nbformat": 4,
 "nbformat_minor": 5
}
